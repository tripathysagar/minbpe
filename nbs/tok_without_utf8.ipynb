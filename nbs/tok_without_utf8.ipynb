{
 "cells": [
  {
   "cell_type": "code",
   "execution_count": 2,
   "metadata": {},
   "outputs": [],
   "source": [
    "text = \"\"\"Each Unicode point also has a property called \"General Category\", that attempts to describe the role of the corresponding symbol in the languages or applications for whose sake it was included in the system. Examples of General Categories are \"Lu\" (meaning upper-case letter), \"Nd\" (decimal digit), \"Pi\" (open-quote punctuation), and \"Mn\" (non-spacing mark, i.e. a diacritic for the preceding glyph). This division is completely independent of code blocks: the code points with a given General Category generally span many blocks, and do not have to be consecutive, not even within each block.[4]\n",
    "\n",
    "Each code point also has a script property, specifying which writing system it is intended for, or whether it is intended for multiple writing systems. This, also, is independent of block.\n",
    "\n",
    "In descriptions of the Unicode system, a block may be subdivided into more specific subgroups, such as the \"Chess symbols\" in the Miscellaneous Symbols block (not to be confused with the separate Chess Symbols block). Those subgroups are not \"blocks\" in the technical sense used by the Unicode consortium, and are named only for the convenience of users.\"\"\""
   ]
  },
  {
   "cell_type": "code",
   "execution_count": 4,
   "metadata": {},
   "outputs": [],
   "source": [
    "text_bytes = text.encode(\"utf-8\")\n",
    "ids = list(text_bytes)"
   ]
  },
  {
   "cell_type": "code",
   "execution_count": 27,
   "metadata": {},
   "outputs": [],
   "source": [
    "chr_lis = list(text)\n",
    "ch_ids = [ord(ch) for ch in chr_lis]"
   ]
  },
  {
   "cell_type": "code",
   "execution_count": 51,
   "metadata": {},
   "outputs": [
    {
     "data": {
      "text/plain": [
       "[69, 97, 99, 104, 32, 85, 110, 105, 265, 100]"
      ]
     },
     "execution_count": 51,
     "metadata": {},
     "output_type": "execute_result"
    }
   ],
   "source": [
    "ch_ids[:10]"
   ]
  },
  {
   "cell_type": "code",
   "execution_count": 10,
   "metadata": {},
   "outputs": [
    {
     "data": {
      "text/plain": [
       "True"
      ]
     },
     "execution_count": 10,
     "metadata": {},
     "output_type": "execute_result"
    }
   ],
   "source": [
    "ids == ch_ids"
   ]
  },
  {
   "cell_type": "code",
   "execution_count": 20,
   "metadata": {},
   "outputs": [],
   "source": []
  },
  {
   "cell_type": "code",
   "execution_count": 41,
   "metadata": {},
   "outputs": [],
   "source": [
    "from minbpe.base import get_stats, merge"
   ]
  },
  {
   "cell_type": "code",
   "execution_count": 39,
   "metadata": {},
   "outputs": [],
   "source": []
  },
  {
   "cell_type": "code",
   "execution_count": 75,
   "metadata": {},
   "outputs": [
    {
     "data": {
      "text/plain": [
       "('A', str)"
      ]
     },
     "execution_count": 75,
     "metadata": {},
     "output_type": "execute_result"
    }
   ],
   "source": [
    "vocab = {idx: chr(idx) for idx in range(256)}\n",
    "vocab[65], type(vocab[65])"
   ]
  },
  {
   "cell_type": "code",
   "execution_count": 90,
   "metadata": {},
   "outputs": [],
   "source": [
    "text = \"\"\"\n",
    "ଦରିଦ୍ରତା ଓଡ଼ିଶା ଦୁର୍ଗତିର ପ୍ରଧାନ କାରଣ । ପ୍ରଧାନ କାରଣ କାହିଁକି, ଏକମାତ୍ର କାରଣ କହିଲେ ଚଳେ । ଓଡ଼ିଆ ଦରିଦ୍ର ; ତେଣୁ ଦୁର୍ବଳ । ତା ଦେହରେ ଶକ୍ତି ନାହିଁ, ମନରେ ସ୍ଫୁର୍ତ୍ତି ନାହିଁ, ହୃଦୟରେ ସାହସ ନାହିଁ । ତାର ସମସ୍ତଙ୍କୁ ଡର ; ସେ କାର୍ଯ୍ୟରେ ଅଳସୁଆ ଓ ନିରୁତ୍ସାହୀ । ଓଡ଼ିଆ ଯଥାର୍ଥରେ ନିର୍ବୁଦ୍ଧିଆ ନୁହେଁ । ଓଡ଼ିଆର ଶିଳ୍ପ ବିଚକ୍ଷଣତା ଅଦ୍ୟାପି ଜାଜ୍ଜଲ୍ୟମାନ । କୋଣାର୍କର ନବଗ୍ରହ ପଥର ଓଡ଼ିଆର ହାତ ଓ ବୁଦ୍ଧି ବଳରେ ଉପରକୁ ଉଠିଥିଲା । ତମଲୁକ ଓ ଚିଲିକା ବାଟେ ଓଡ଼ିଆ ଦେଶ ବିଦେଶରେ ଯାଇ ବାଣିଜ୍ୟ କରୁଥିଲା । ତାଜମହଲ ତିଆରିରେ ଓଡ଼ିଆ ଇଞ୍ଜିନିୟରଙ୍କର ବୁଦ୍ଧି ଖଟିଥିଲା । ସରୁ ସୂକ୍ଷ୍ମଲୁଗା ତିଆରି କରିବା ବିଷୟରେ ଓଡ଼ିଆର ବିଚକ୍ଷଣତା ଇତିହାସ ପ୍ରସିଦ୍ଧ । ଢାକା ମସଲିନ୍ ଠାରୁ ବଳି ତାରିଫ ଲୁଗା ଓଡ଼ିଆମାନେ ତିଆରି କରୁଥିଲେ । ଓଡ଼ିଆମାନେ ଆପଣା ସାହସ ଓ ବିକ୍ରମ ବଳରେ ମୁସଲମାନ ଆକ୍ରମଣକୁ ତିନିଶହ ବର୍ଷକାଳ ହଟାଇ ରଖିଥିଲେ । ଭାରତବର୍ଷର ଅନ୍ୟାନ୍ୟ ପ୍ରଦେଶ ତୁଳନାରେ ଓଡ଼ିଶା ସଭା ଶେଷରେ ମୁସଲମାନ ଶାସନ ତଳେ ଆସିଥିଲା । ଓଡ଼ିଶାର ଆଜି ଏସବୁ ସୌଭାଗ୍ୟ ଯାଇଛି । ଦାରିଦ୍ର୍ୟ ଦୋଷ ଗୁଣରାଶିନାଶୀ ଓଡ଼ିଆର ଏ ଉପସ୍ଥିତ ଦରିଦ୍ରତାର କାରଣ ଅନେକ । ଓଡ଼ିଶାର ଅଧିକାଂଶ ବଡ଼ ବଡ଼ ଜମିଦାରୀ ଓଡ଼ିଆଙ୍କ ହାତେ ନାହିଁ । ଇଂରେଜ ରାଜତ୍ୱ ଆରମ୍ଭରେ ସାମାନ୍ୟ ସାମାନ୍ୟ ରାଜସ୍ୱ ଦେଣାରେ ତାହାସବୁ ସୁଦୂର କଲିକତାରେ ଶାଗମାଛ ଦରରେ ନିଲାମ ହୋଇ ବଙ୍ଗାଳୀମାନଙ୍କ ହାତକୁ ଯାଇଛି । ବଡ଼ ବଡ଼ ଜମିଦାରୀ ଯାଇଥିଲା ; ଏବେ ପ୍ରଜାସ୍ୱତ୍ତ୍ୱ, ମକଦ୍ଦମୀ ଓ ସରବରାକାରୀ ସ୍ୱତ୍ତ୍ୱ ଓଡ଼ିଆଙ୍କ ହାତରୁ ଗଲାଣି । ବଙ୍ଗାଳୀ, ପଶ୍ଚିମା, ମାରୁଆଳୀ ଓ ବିଭିନ୍ନ ପ୍ରଦେଶର ମୁସଲମାନ୍ ମାନେ ଓଡ଼ିଶାରେ ସ୍ଥାନେ ସ୍ଥାନେ ଚାଷ ଓ ବଗିଚାଦି ଆରମ୍ଭ କଲେଣି । ଓଡ଼ିଶାର ମହାଜନୀ ମଧ୍ୟ ଏହିପରି ଅନ୍ୟ ପ୍ରଦେଶ ଲୋକଙ୍କ ହାତରେ । ବ୍ୟକ୍ତିଗତ ଭାବରେ ବା ଦଳବଦ୍ଧ ହୋଇ ବ୍ୟାଙ୍କ୍ ସୂତ୍ରରେ ଏମାନେ ଓଡ଼ିଆ ଜମିଦାର ଓ ଅନ୍ୟାନ୍ୟ ପ୍ରଜାମାନଙ୍କୁ କରଜ ଦେଇ ଶେଷରେ ସେମାନଙ୍କ ସ୍ୱତ୍ୱ ସମ୍ପତ୍ତି ନେଇଛନ୍ତି । ଓଡ଼ିଶାର କାରବାର ମଧ୍ୟ ପରଦେଶୀଙ୍କ ହାତରେ । ପ୍ରତିବର୍ଷ ଯେ ଲକ୍ଷ ଲକ୍ଷ ଟଙ୍କାର ଚାଉଳ ଆଦି ଶସ୍ୟ ଓଡ଼ିଶାରୁ ଅନ୍ୟଆଡେ ରପ୍ତାନି ହେଉଅଛି, ସେସବୁ କାରବାରରେ ଓଡ଼ିଆ କେତେଜଣ ଅଛନ୍ତି । କଚ୍ଛି, ଗୁଜରାଟୀ, ମାରୁଆଳୀ ଓ ମୁସଲମାନ ଏ ବ୍ୟବସାୟକୁ ଏକ ପ୍ରକାର ଏକଚାଟିଆ କରିଅଛନ୍ତି । ଓଡ଼ିଶାର ଅଧିକ ଭାଗ ଗଡ଼ଜାତ, ତାହାସବୁ ଜଙ୍ଗଲରେ ପୂର୍ଣ୍ଣ । କାଠ ଓଡ଼ିଶାର ଏକ ପ୍ରଧାନ କାରବାର ଜିନିଷ । ଏ ବ୍ୟବସାୟରେ ମଧ୍ୟ ପ୍ରାୟ କେହି ଓଡ଼ିଆ ନାହାନ୍ତି । ଓଡ଼ିଆ କାପେଡ଼ିଙ୍କ ଭାଗ୍ୟ ଅସ୍ତ ହୋଇଅଛି । ଆଗେ ଯେଉଁମାନେ ଲୁଗା ଦୋକାନ କରି ମସ୍ତ ଧନୀ ହୋଇଥିଲେ ଏବେ ତାଙ୍କ ପିଲା ମାଗି ଖାଇଲେଣି । ମାରୁଆଳୀମାନେ ସହରରେ ଓ ମଫସଲ ଗାଁରେ ବିଲାତି କଳଲୁଗାର ଚକଚକିଆ ଦୋକାନ ବସାଇଛନ୍ତି । ଓଡ଼ିଆ ସେଥିରେ ଅନଳରେ ପତଙ୍ଗ ପଡ଼ିଲା ପରି ପଡୁଛନ୍ତି । ଓଡ଼ିଶାର ଅନ୍ୟାନ୍ୟ ବନଜାତ ଦ୍ରବ୍ୟ ଅନ୍ୟ ପ୍ରଦେଶରେ ରପ୍ତାନି କରି ଲୋକେ ଲାଭବାନ ହେଉଛନ୍ତି । ବିଦେଶୀ ଜିନିଷ ଓଡ଼ିଶାକୁ ଆଣି ଏମାନେ ଓଡ଼ିଆଙ୍କ ଧନ ନେଉଛନ୍ତି । ରାସ୍ତାଘାଟ, ସେତୁ, କୋଠା ତିଆରିରେ ସରକାର ଓ ଅନ୍ୟାନ୍ୟମାନଙ୍କର ପ୍ରତିବର୍ଷ ଲକ୍ଷଲକ୍ଷ ଟଙ୍କା ଖର୍ଚ୍ଚ ହେଉଛି । ଏଥିରୁ ଅଧାଅଧି କାନତରାଟି ନିଅନ୍ତି । ଏଥିରେ ଯେ ଓଡ଼ିଆ ଅଛନ୍ତି ତାଙ୍କ ସଂଖ୍ୟା ଏତେ କମ୍ ଯେ ଥିବା ନଥିବା ସମାନ । ଶିଳ୍ପକ୍ଷେତ୍ରରେ ଅନ୍ୟ ପ୍ରଦେଶର ଲୋକେ ଆସି କ୍ରମେ ଓଡ଼ିଆଙ୍କୁ ବେଦଖଲ କଲେଣି । ଓଡ଼ିଆ ମୋଚ଼ି ପ୍ରାୟ ସହରରୁ ଲୋପ ପାଇଛନ୍ତି, ମଫସଲର କାଁ ଭାଁ କେଉଁଠାରେ ଓ ଗଡ଼ଜାତରେ କେତେକ ଯାଗାରେ ଦେଖାଯାନ୍ତି । ସହରରେ ସେମାନଙ୍କ ସ୍ଥାନ ତେଲେଙ୍ଗା ମୋଚ଼ିମାନେ ପୂରା ଅଧିକାର କଲେଣି । ଏହାଛଡ଼ା ବିଦେଶୀ ଆମଦାନୀ ଯୋତା ସେମାନଙ୍କ ନାଶର କାରଣ ହୋଇଛି । ଲୁଗାବୁଣାରେ ମଧ୍ୟ ଓଡ଼ିଆ ତନ୍ତୀ ହାତରୁ ଅନ୍ୟ ତନ୍ତୀ କାମ ଛଡ଼ାଇ ନେଲାଣି । ସବୁ କ୍ଷେତ୍ରରୁ ଓଡ଼ିଆ କ୍ରମେ ଏପରି ବେଦଖଲ ହୋଇ ପେଟ ପୋଷିବାକୁ ବିଦେଶକୁ ପଳାଉଛନ୍ତି । ମାତ୍ର ଏସବୁ କ୍ଷେତ୍ରରେ ଯେ ଓଡ଼ିଆ ବେଦଖଲ ହେଉଛନ୍ତି, ସେଥିପ୍ରତି କାହାରି ଦୃଷ୍ଟି ନାହିଁ । ଚାକିରି ଲାଗି ଶିକ୍ଷିତ ଓଡ଼ିଆ ଯୁବକ ବ୍ୟସ୍ତ । ସେ କ୍ଷେତ୍ରରେ ମଧ୍ୟ ଓଡ଼ିଆଙ୍କର ପୂରା ଦଖଲ ହୋଇନାହିଁ । ଓଡ଼ିଆମାନେ ଆଖି ଫିଟାଇ ଆପଣାର ଏ ଅବସ୍ଥା ଦେଖନ୍ତୁ । ଅନ୍ୟ ପ୍ରଦେଶ ଲୋକେ ଏ ପ୍ରଦେଶର ବ୍ୟବସାୟ ବାଣିଜ୍ୟ ଓ ଅନ୍ୟାନ୍ୟ କାରବାର କରିବା ତାଙ୍କ ଦୋଷ ନୁହେଁ । ଉଦଜୋଗୀ ପୁରୁଷ ଆଗରେ ସମସ୍ତ ସଂସାର ଉନ୍ମୁକ୍ତ । ଯେ ଯେଉଁଠାରେ ନିଜ ବୁଦ୍ଧିବଳ ଖଟାଇ କାର୍ଯ୍ୟ କରିପାରିଲେ ; ମାତ୍ର ନିଜ ଘରେ ଅନ୍ୟ ଲୋକେ ଆସି କାର୍ଯ୍ୟକରି ଧନୀ ଓ ଭାଗ୍ୟବାନ ହେବେ । ଓଡ଼ିଆ କାଙ୍ଗାଳ ହୋଇ କାନ୍ଦି କାନ୍ଦି ପେଟ ବିକଳରେ ଅନ୍ୟ ଦେଶକୁ ପଳାଇବେ । ଏହା କର୍ମଦୋଷ ଛଡ଼ା ଆଉ କଅଣ ? ଉତ୍କଳବାସୀ ନିଜର ଅବସ୍ଥା ଦେଖ, ଭାବ, ଅନ୍ୟମାନଙ୍କ ଉଦ୍ୟମରୁ ନିଜେ ଉଦ୍ୟମ କରି ଶିଖ ।\n",
    "\"\"\"\n",
    "chr_lis = list(text)"
   ]
  },
  {
   "cell_type": "code",
   "execution_count": 100,
   "metadata": {},
   "outputs": [
    {
     "name": "stdout",
     "output_type": "stream",
     "text": [
      "pair=(2887, 32), idx=256\n"
     ]
    },
    {
     "ename": "KeyError",
     "evalue": "2887",
     "output_type": "error",
     "traceback": [
      "\u001b[0;31m---------------------------------------------------------------------------\u001b[0m",
      "\u001b[0;31mKeyError\u001b[0m                                  Traceback (most recent call last)",
      "Cell \u001b[0;32mIn[100], line 23\u001b[0m\n\u001b[1;32m     21\u001b[0m \u001b[38;5;66;03m# save the merge\u001b[39;00m\n\u001b[1;32m     22\u001b[0m merges[pair] \u001b[38;5;241m=\u001b[39m idx\n\u001b[0;32m---> 23\u001b[0m vocab[idx] \u001b[38;5;241m=\u001b[39m \u001b[43mvocab\u001b[49m\u001b[43m[\u001b[49m\u001b[43mpair\u001b[49m\u001b[43m[\u001b[49m\u001b[38;5;241;43m0\u001b[39;49m\u001b[43m]\u001b[49m\u001b[43m]\u001b[49m \u001b[38;5;241m+\u001b[39m vocab[pair[\u001b[38;5;241m1\u001b[39m]]\n\u001b[1;32m     24\u001b[0m \u001b[38;5;66;03m# prints\u001b[39;00m\n\u001b[1;32m     26\u001b[0m \u001b[38;5;28mprint\u001b[39m(\u001b[38;5;124mf\u001b[39m\u001b[38;5;124m\"\u001b[39m\u001b[38;5;124mmerge \u001b[39m\u001b[38;5;132;01m{\u001b[39;00mi\u001b[38;5;241m+\u001b[39m\u001b[38;5;241m1\u001b[39m\u001b[38;5;132;01m}\u001b[39;00m\u001b[38;5;124m/\u001b[39m\u001b[38;5;132;01m{\u001b[39;00mnum_merges\u001b[38;5;132;01m}\u001b[39;00m\u001b[38;5;124m: \u001b[39m\u001b[38;5;132;01m{\u001b[39;00mpair\u001b[38;5;132;01m}\u001b[39;00m\u001b[38;5;124m -> \u001b[39m\u001b[38;5;132;01m{\u001b[39;00midx\u001b[38;5;132;01m}\u001b[39;00m\u001b[38;5;124m (\u001b[39m\u001b[38;5;132;01m{\u001b[39;00mvocab[idx]\u001b[38;5;132;01m}\u001b[39;00m\u001b[38;5;124m) had \u001b[39m\u001b[38;5;132;01m{\u001b[39;00mstats[pair]\u001b[38;5;132;01m}\u001b[39;00m\u001b[38;5;124m occurrences\u001b[39m\u001b[38;5;124m\"\u001b[39m)\n",
      "\u001b[0;31mKeyError\u001b[0m: 2887"
     ]
    }
   ],
   "source": [
    "ch_ids = [ord(ch) for ch in chr_lis]\n",
    "merges = {}\n",
    "num_merges = 1\n",
    "vocab = {idx: chr(idx) for idx in range(256)}\n",
    "for i in range(num_merges):\n",
    "            # count up the number of times every consecutive pair appears\n",
    "            stats = get_stats(ch_ids)\n",
    "            # find the pair with the highest count\n",
    "            pair = max(stats, key=stats.get)\n",
    "            # mint a new token: assign it the next available id\n",
    "            \n",
    "            idx = 256 + i\n",
    "            # replace all occurrences of pair in ids with idx\n",
    "\n",
    "            print(f\"{pair=}, {idx=}\")\n",
    "            ch_ids = merge(ch_ids, pair, idx)\n",
    "\n",
    "            if idx == 2887:\n",
    "                    print(vocab[pair[0]] , vocab[pair[1]])\n",
    "\n",
    "            # save the merge\n",
    "            merges[pair] = idx\n",
    "            vocab[idx] = vocab[pair[0]] + vocab[pair[1]]\n",
    "            # prints\n",
    "                    \n",
    "            print(f\"merge {i+1}/{num_merges}: {pair} -> {idx} ({vocab[idx]}) had {stats[pair]} occurrences\")\n"
   ]
  },
  {
   "cell_type": "code",
   "execution_count": 46,
   "metadata": {},
   "outputs": [
    {
     "data": {
      "text/plain": [
       "1.185877466251298"
      ]
     },
     "execution_count": 46,
     "metadata": {},
     "output_type": "execute_result"
    }
   ],
   "source": [
    "float(len(chr_lis)) / len(ch_ids)"
   ]
  },
  {
   "cell_type": "code",
   "execution_count": 77,
   "metadata": {},
   "outputs": [
    {
     "name": "stdout",
     "output_type": "stream",
     "text": [
      "{0: '\\x00', 1: '\\x01', 2: '\\x02', 3: '\\x03', 4: '\\x04', 5: '\\x05', 6: '\\x06', 7: '\\x07', 8: '\\x08', 9: '\\t', 10: '\\n', 11: '\\x0b', 12: '\\x0c', 13: '\\r', 14: '\\x0e', 15: '\\x0f', 16: '\\x10', 17: '\\x11', 18: '\\x12', 19: '\\x13', 20: '\\x14', 21: '\\x15', 22: '\\x16', 23: '\\x17', 24: '\\x18', 25: '\\x19', 26: '\\x1a', 27: '\\x1b', 28: '\\x1c', 29: '\\x1d', 30: '\\x1e', 31: '\\x1f', 32: ' ', 33: '!', 34: '\"', 35: '#', 36: '$', 37: '%', 38: '&', 39: \"'\", 40: '(', 41: ')', 42: '*', 43: '+', 44: ',', 45: '-', 46: '.', 47: '/', 48: '0', 49: '1', 50: '2', 51: '3', 52: '4', 53: '5', 54: '6', 55: '7', 56: '8', 57: '9', 58: ':', 59: ';', 60: '<', 61: '=', 62: '>', 63: '?', 64: '@', 65: 'A', 66: 'B', 67: 'C', 68: 'D', 69: 'E', 70: 'F', 71: 'G', 72: 'H', 73: 'I', 74: 'J', 75: 'K', 76: 'L', 77: 'M', 78: 'N', 79: 'O', 80: 'P', 81: 'Q', 82: 'R', 83: 'S', 84: 'T', 85: 'U', 86: 'V', 87: 'W', 88: 'X', 89: 'Y', 90: 'Z', 91: '[', 92: '\\\\', 93: ']', 94: '^', 95: '_', 96: '`', 97: 'a', 98: 'b', 99: 'c', 100: 'd', 101: 'e', 102: 'f', 103: 'g', 104: 'h', 105: 'i', 106: 'j', 107: 'k', 108: 'l', 109: 'm', 110: 'n', 111: 'o', 112: 'p', 113: 'q', 114: 'r', 115: 's', 116: 't', 117: 'u', 118: 'v', 119: 'w', 120: 'x', 121: 'y', 122: 'z', 123: '{', 124: '|', 125: '}', 126: '~', 127: '\\x7f', 128: '\\x80', 129: '\\x81', 130: '\\x82', 131: '\\x83', 132: '\\x84', 133: '\\x85', 134: '\\x86', 135: '\\x87', 136: '\\x88', 137: '\\x89', 138: '\\x8a', 139: '\\x8b', 140: '\\x8c', 141: '\\x8d', 142: '\\x8e', 143: '\\x8f', 144: '\\x90', 145: '\\x91', 146: '\\x92', 147: '\\x93', 148: '\\x94', 149: '\\x95', 150: '\\x96', 151: '\\x97', 152: '\\x98', 153: '\\x99', 154: '\\x9a', 155: '\\x9b', 156: '\\x9c', 157: '\\x9d', 158: '\\x9e', 159: '\\x9f', 160: '\\xa0', 161: '¡', 162: '¢', 163: '£', 164: '¤', 165: '¥', 166: '¦', 167: '§', 168: '¨', 169: '©', 170: 'ª', 171: '«', 172: '¬', 173: '\\xad', 174: '®', 175: '¯', 176: '°', 177: '±', 178: '²', 179: '³', 180: '´', 181: 'µ', 182: '¶', 183: '·', 184: '¸', 185: '¹', 186: 'º', 187: '»', 188: '¼', 189: '½', 190: '¾', 191: '¿', 192: 'À', 193: 'Á', 194: 'Â', 195: 'Ã', 196: 'Ä', 197: 'Å', 198: 'Æ', 199: 'Ç', 200: 'È', 201: 'É', 202: 'Ê', 203: 'Ë', 204: 'Ì', 205: 'Í', 206: 'Î', 207: 'Ï', 208: 'Ð', 209: 'Ñ', 210: 'Ò', 211: 'Ó', 212: 'Ô', 213: 'Õ', 214: 'Ö', 215: '×', 216: 'Ø', 217: 'Ù', 218: 'Ú', 219: 'Û', 220: 'Ü', 221: 'Ý', 222: 'Þ', 223: 'ß', 224: 'à', 225: 'á', 226: 'â', 227: 'ã', 228: 'ä', 229: 'å', 230: 'æ', 231: 'ç', 232: 'è', 233: 'é', 234: 'ê', 235: 'ë', 236: 'ì', 237: 'í', 238: 'î', 239: 'ï', 240: 'ð', 241: 'ñ', 242: 'ò', 243: 'ó', 244: 'ô', 245: 'õ', 246: 'ö', 247: '÷', 248: 'ø', 249: 'ù', 250: 'ú', 251: 'û', 252: 'ü', 253: 'ý', 254: 'þ', 255: 'ÿ', 256: 'e ', 257: 's ', 258: 'in', 259: 'th', 260: 'en', 261: ', ', 262: 't ', 263: 'or', 264: 'the ', 265: 'co'}\n"
     ]
    }
   ],
   "source": [
    "print(vocab)"
   ]
  },
  {
   "cell_type": "code",
   "execution_count": 86,
   "metadata": {},
   "outputs": [
    {
     "name": "stdout",
     "output_type": "stream",
     "text": [
      "[69, 97, 99, 104, 32, 85, 110, 105, 265, 100]\n"
     ]
    },
    {
     "data": {
      "text/plain": [
       "'Each Unicod'"
      ]
     },
     "execution_count": 86,
     "metadata": {},
     "output_type": "execute_result"
    }
   ],
   "source": [
    "def decode( ids):\n",
    "        # given ids (list of integers), return Python string\n",
    "        text = \"\".join(vocab[idx] for idx in ids)\n",
    "        return text\n",
    "\n",
    "print(ch_ids[:10])\n",
    "decode(ch_ids[:10])"
   ]
  },
  {
   "cell_type": "code",
   "execution_count": 87,
   "metadata": {},
   "outputs": [],
   "source": [
    "def encode( text):\n",
    "        # given a string text, return the token ids\n",
    "        \n",
    "        ids = [ord(i) for i in list(text)] # list of integers in range 0..255\n",
    "        while len(ids) >= 2:\n",
    "            # find the pair with the lowest merge index\n",
    "            stats = get_stats(ids)\n",
    "            pair = min(stats, key=lambda p: merges.get(p, float(\"inf\")))\n",
    "            print(pair)\n",
    "            # subtle: if there are no more merges available, the key will\n",
    "            # result in an inf for every single pair, and the min will be\n",
    "            # just the first pair in the list, arbitrarily\n",
    "            # we can detect this terminating case by a membership check\n",
    "            if pair not in merges:\n",
    "                break # nothing else can be merged anymore\n",
    "            # otherwise let's merge the best pair (lowest merge index)\n",
    "            idx = merges[pair]\n",
    "            ids = merge(ids, pair, idx)\n",
    "        return ids"
   ]
  },
  {
   "cell_type": "code",
   "execution_count": 88,
   "metadata": {},
   "outputs": [
    {
     "name": "stdout",
     "output_type": "stream",
     "text": [
      "(99, 111)\n",
      "(69, 97)\n"
     ]
    },
    {
     "data": {
      "text/plain": [
       "[69, 97, 99, 104, 32, 85, 110, 105, 265, 100]"
      ]
     },
     "execution_count": 88,
     "metadata": {},
     "output_type": "execute_result"
    }
   ],
   "source": [
    "encode('Each Unicod')"
   ]
  },
  {
   "cell_type": "code",
   "execution_count": 89,
   "metadata": {},
   "outputs": [
    {
     "name": "stdout",
     "output_type": "stream",
     "text": [
      "(99, 111)\n",
      "(69, 97)\n"
     ]
    },
    {
     "data": {
      "text/plain": [
       "'Each Unicod'"
      ]
     },
     "execution_count": 89,
     "metadata": {},
     "output_type": "execute_result"
    }
   ],
   "source": [
    "decode(encode('Each Unicod'))"
   ]
  },
  {
   "cell_type": "code",
   "execution_count": 71,
   "metadata": {},
   "outputs": [
    {
     "data": {
      "text/plain": [
       "[b'E', b'in', b'U', b'n', b'i', b'co', b'd']"
      ]
     },
     "execution_count": 71,
     "metadata": {},
     "output_type": "execute_result"
    }
   ],
   "source": [
    "ids = [69, 258, 85, 110, 105, 265, 100]\n",
    "[vocab[idx] for idx in ids]"
   ]
  },
  {
   "cell_type": "code",
   "execution_count": 83,
   "metadata": {},
   "outputs": [
    {
     "name": "stdout",
     "output_type": "stream",
     "text": [
      "{(98, 108): 256, (256, 111): 257, (257, 99): 258, (32, 258): 259, (111, 32): 260, (258, 116): 261, (111, 110): 262, (258, 103): 263, (263, 32): 264, (256, 110): 265, (99, 104): 256, (256, 32): 257, (97, 257): 258, (256, 100): 259, (105, 259): 260, (258, 257): 261, (256, 259): 262, (260, 100): 263, (114, 105): 264, (258, 32): 265, (116, 105): 256, (256, 112): 257, (257, 111): 258, (260, 258): 259, (101, 32): 256, (115, 32): 257, (105, 110): 258, (116, 104): 259, (101, 110): 260, (44, 32): 261, (116, 32): 262, (111, 114): 263, (259, 256): 264, (99, 111): 265}\n"
     ]
    }
   ],
   "source": [
    "print(merges)"
   ]
  },
  {
   "cell_type": "code",
   "execution_count": 84,
   "metadata": {},
   "outputs": [
    {
     "data": {
      "text/plain": [
       "34"
      ]
     },
     "execution_count": 84,
     "metadata": {},
     "output_type": "execute_result"
    }
   ],
   "source": [
    "len(merges)"
   ]
  },
  {
   "cell_type": "code",
   "execution_count": null,
   "metadata": {},
   "outputs": [],
   "source": []
  }
 ],
 "metadata": {
  "kernelspec": {
   "display_name": "base",
   "language": "python",
   "name": "python3"
  },
  "language_info": {
   "codemirror_mode": {
    "name": "ipython",
    "version": 3
   },
   "file_extension": ".py",
   "mimetype": "text/x-python",
   "name": "python",
   "nbconvert_exporter": "python",
   "pygments_lexer": "ipython3",
   "version": "3.12.2"
  }
 },
 "nbformat": 4,
 "nbformat_minor": 2
}
